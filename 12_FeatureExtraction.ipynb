{
 "cells": [
  {
   "cell_type": "code",
   "execution_count": 1,
   "metadata": {},
   "outputs": [
    {
     "name": "stderr",
     "output_type": "stream",
     "text": [
      "/home/pasquale/miniconda3/envs/gnnleak/lib/python3.12/site-packages/torch_geometric/typing.py:97: UserWarning: An issue occurred while importing 'torch-cluster'. Disabling its usage. Stacktrace: /home/pasquale/miniconda3/envs/gnnleak/lib/python3.12/site-packages/torch_cluster/_version_cuda.so: undefined symbol: _ZN5torch3jit17parseSchemaOrNameERKSsb\n",
      "  warnings.warn(f\"An issue occurred while importing 'torch-cluster'. \"\n"
     ]
    }
   ],
   "source": [
    "import torch\n",
    "import numpy as np\n",
    "import pandas as pd\n",
    "from torch_geometric.data import Data\n",
    "from torch_geometric.nn import GATConv, global_mean_pool\n",
    "from torch_geometric.loader import DataLoader\n",
    "from sklearn.preprocessing import StandardScaler\n",
    "from sklearn.metrics import precision_recall_fscore_support, roc_auc_score, roc_curve, precision_recall_curve\n",
    "from torch.nn.utils import clip_grad_norm_\n",
    "import matplotlib.pyplot as plt\n",
    "from torch_geometric.nn import BatchNorm\n",
    "from tqdm import tqdm\n",
    "from sklearn.metrics import confusion_matrix\n",
    "import seaborn as sns\n",
    "from scipy.stats import skew, kurtosis, linregress\n",
    "from scipy.signal import find_peaks\n",
    "import einops\n",
    "\n",
    "import lovely_tensors as lt\n",
    "lt.monkey_patch()"
   ]
  },
  {
   "cell_type": "code",
   "execution_count": 2,
   "metadata": {},
   "outputs": [
    {
     "name": "stdout",
     "output_type": "stream",
     "text": [
      "Loading and preprocessing data...\n"
     ]
    },
    {
     "name": "stderr",
     "output_type": "stream",
     "text": [
      "/tmp/ipykernel_906759/1167354728.py:3: FutureWarning: You are using `torch.load` with `weights_only=False` (the current default value), which uses the default pickle module implicitly. It is possible to construct malicious pickle data which will execute arbitrary code during unpickling (See https://github.com/pytorch/pytorch/blob/main/SECURITY.md#untrusted-models for more details). In a future release, the default value for `weights_only` will be flipped to `True`. This limits the functions that could be executed during unpickling. Arbitrary objects will no longer be allowed to be loaded via this mode unless they are explicitly allowlisted by the user via `torch.serialization.add_safe_globals`. We recommend you start setting `weights_only=True` for any use case where you don't have full control of the loaded file. Please open an issue on GitHub for any issues related to this experimental feature.\n",
      "  graph_data = torch.load('data/graph_data_torch.pt')\n"
     ]
    }
   ],
   "source": [
    "#%% Data Loading and Preprocessing\n",
    "print(\"Loading and preprocessing data...\")\n",
    "graph_data = torch.load('data/graph_data_torch.pt')"
   ]
  },
  {
   "cell_type": "code",
   "execution_count": 3,
   "metadata": {},
   "outputs": [],
   "source": [
    "num_nodes = graph_data['node_features'].shape[1]\n",
    "num_edges = graph_data['edge_index'].shape[0]"
   ]
  },
  {
   "cell_type": "code",
   "execution_count": 4,
   "metadata": {},
   "outputs": [
    {
     "data": {
      "text/plain": [
       "{'scenario': tensor[17520000, 1] i32 67Mb x∈[1, 1000] μ=500.500 σ=288.675,\n",
       " 'node_features': tensor[17520000, 32] n=560640000 (2.1Gb) x∈[0., 69.985] μ=61.383 σ=11.861,\n",
       " 'edge_attr': tensor[17520000, 34] n=595680000 (2.2Gb) x∈[-3.726e+03, 1.344e+04] μ=835.518 σ=1.509e+03,\n",
       " 'edge_index': tensor[34, 2] i64 n=68 x∈[0, 31] μ=15.471 σ=9.229,\n",
       " 'y': tensor[17520000, 32] i64 n=560640000 (4.2Gb) x∈[0, 1] μ=0.008 σ=0.087}"
      ]
     },
     "execution_count": 4,
     "metadata": {},
     "output_type": "execute_result"
    }
   ],
   "source": [
    "graph_data"
   ]
  },
  {
   "cell_type": "code",
   "execution_count": 5,
   "metadata": {},
   "outputs": [],
   "source": [
    "graph_data[\"edge_attr\"] = torch.cat([graph_data[\"edge_attr\"], graph_data[\"edge_attr\"]], dim=1)\n",
    "edges_reversed = torch.stack([reversed(e) for e in graph_data[\"edge_index\"].reshape(-1, 2)])\n",
    "edge_index = torch.cat([graph_data[\"edge_index\"], edges_reversed], dim=0)\n",
    "graph_data[\"edge_index\"] = edge_index"
   ]
  },
  {
   "cell_type": "markdown",
   "metadata": {},
   "source": [
    "### Feature Extraction"
   ]
  },
  {
   "cell_type": "code",
   "execution_count": 28,
   "metadata": {},
   "outputs": [],
   "source": [
    "# Temporal parameters\n",
    "WINDOW_SIZE = 24     \n",
    "SUBSAMPLE_FACTOR = 10  # Reduced subsampling for more windows\n",
    "STRIDE = 12\n",
    "num_nodes = graph_data['node_features'].shape[1]\n",
    "\n",
    "def preprocess_data(features, window_size, stride, subsample):\n",
    "    \"\"\"Process features into [windows, nodes] format with mean, max, min, and std aggregation\"\"\"\n",
    "    # Slice data into overlapping windows\n",
    "    features = features.unfold(0, window_size, stride).float()\n",
    "    \n",
    "    # Compute mean, max, min, and std pooling within each window\n",
    "    mean_values = features.mean(dim=2)  # Mean pooling\n",
    "    max_values = features.max(dim=2).values  # Max pooling\n",
    "    min_values = features.min(dim=2).values  # Min pooling\n",
    "    std_values = features.std(dim=2)  # Standard deviation pooling\n",
    "    \n",
    "    # Combine mean, max, min, and std into a single representation\n",
    "    combined_features = torch.cat((mean_values, max_values, min_values, std_values), dim=1)  # Concatenate along feature axis\n",
    "    \n",
    "    # Subsample the windows\n",
    "    return combined_features[::subsample, :]"
   ]
  },
  {
   "cell_type": "code",
   "execution_count": 29,
   "metadata": {},
   "outputs": [
    {
     "name": "stdout",
     "output_type": "stream",
     "text": [
      "tensor[146000, 128] n=18688000 (71Mb) x∈[0., 69.984] μ=46.181 σ=27.628\n",
      "tensor[146000, 272] n=39712000 (0.1Gb) x∈[-3.676e+03, 1.337e+04] μ=687.584 σ=1.380e+03\n",
      "tensor[146000, 32] i64 n=4672000 (36Mb) x∈[0, 1] μ=0.008 σ=0.088\n",
      "tensor[146000, 1] i32 0.6Mb x∈[1, 1000] μ=500.502 σ=288.676\n"
     ]
    }
   ],
   "source": [
    "# Process features and labels\n",
    "node_features = preprocess_data(graph_data['node_features'], WINDOW_SIZE, SUBSAMPLE_FACTOR)\n",
    "edge_features = preprocess_data(graph_data['edge_attr'], WINDOW_SIZE, SUBSAMPLE_FACTOR)\n",
    "window_labels = graph_data['y'].unfold(0, WINDOW_SIZE, WINDOW_SIZE).max(dim=2).values[::SUBSAMPLE_FACTOR, :]\n",
    "window_scenarios = graph_data['scenario'].unfold(0, WINDOW_SIZE, WINDOW_SIZE).mode(dim=2).values[::SUBSAMPLE_FACTOR, :]\n",
    "print(node_features)\n",
    "print(edge_features)\n",
    "print(window_labels)\n",
    "print(window_scenarios)"
   ]
  },
  {
   "cell_type": "code",
   "execution_count": 13,
   "metadata": {},
   "outputs": [],
   "source": [
    "torch.save({\n",
    "    'node_features': node_features,\n",
    "    'window_labels': window_labels,\n",
    "    \"edge_features\": edge_features,\n",
    "    'window_scenarios': window_scenarios,\n",
    "    \"edge_index\": graph_data['edge_index'].long().t().contiguous(),\n",
    "},\n",
    "    \"data/processed_data_W12_S10.pt\"           \n",
    ")"
   ]
  },
  {
   "cell_type": "markdown",
   "metadata": {},
   "source": [
    "## More Features"
   ]
  },
  {
   "cell_type": "code",
   "execution_count": 6,
   "metadata": {},
   "outputs": [],
   "source": [
    "from scipy.fft import fft\n",
    "from scipy.stats import entropy\n",
    "import statsmodels.api as sm"
   ]
  },
  {
   "cell_type": "code",
   "execution_count": 49,
   "metadata": {},
   "outputs": [],
   "source": [
    "# Temporal parameters\n",
    "WINDOW_SIZE = 48\n",
    "STRIDE = 24\n",
    "SUBSAMPLE_FACTOR = 1  # Reduced subsampling for more windows\n",
    "\n",
    "def permutation_entropy(time_series, m=3, tau=1):\n",
    "    \"\"\"Compute permutation entropy for a time series.\"\"\"\n",
    "    results = []\n",
    "    for series in time_series:\n",
    "        permutations = []\n",
    "        n = len(series)\n",
    "\n",
    "        for i in range(n - (m - 1) * tau):\n",
    "            vec = series[i:i + m * tau:tau]\n",
    "            permutation = np.argsort(vec)\n",
    "            permutations.append(tuple(permutation))\n",
    "\n",
    "        unique_perms, counts = np.unique(permutations, axis=0, return_counts=True)\n",
    "        probs = counts / len(permutations)\n",
    "        results.append(entropy(probs, base=2))\n",
    "    results = np.array(results)\n",
    "    return results\n",
    "\n",
    "def fourier_entropy(time_series):\n",
    "    \"\"\"Compute Fourier entropy for a time series.\"\"\"\n",
    "    fft_coeffs = fft(time_series)\n",
    "    power_spectrum = np.abs(fft_coeffs) ** 2\n",
    "    normalized_spectrum = power_spectrum / np.sum(power_spectrum)\n",
    "    return entropy(normalized_spectrum, base=2, axis=-1)\n",
    "\n",
    "def partial_autocorrelation(time_series, lag):\n",
    "    \"\"\"Compute partial autocorrelation for a time series at a given lag.\"\"\"\n",
    "    if time_series.ndim == 2:\n",
    "        # If input is 2D (batch of time series), compute PACF for each time series\n",
    "        pacf_values = np.array([sm.tsa.stattools.pacf(ts, nlags=lag)[lag] for ts in time_series])\n",
    "        return pacf_values\n",
    "    elif time_series.ndim == 1:\n",
    "        # If input is 1D (single time series), compute PACF directly\n",
    "        return sm.tsa.stattools.pacf(time_series, nlags=lag)[lag]\n",
    "    else:\n",
    "        raise ValueError(\"Input must be 1D or 2D.\")\n",
    "\n",
    "def preprocess_data(features, window_size, stride, subsample):\n",
    "    \"\"\"Process features into [windows, nodes] format.\"\"\"\n",
    "    # Slice data into overlapping windows\n",
    "    features = features.unfold(0, window_size, stride).float()\n",
    "    \n",
    "    # Compute mean, max, min, std for each window\n",
    "    mean_values = features.mean(dim=2)  # Mean pooling\n",
    "    max_values = features.max(dim=2).values  # Max pooling\n",
    "    min_values = features.min(dim=2).values  # Min pooling\n",
    "    std_values = features.std(dim=2)  # Standard deviation pooling\n",
    "    \n",
    "    # Compute additional features for each window\n",
    "    perm_entropy_values = torch.tensor([permutation_entropy(window) for window in tqdm(features.numpy(), desc=\"permutation entropy\")])\n",
    "    fourier_entropy_values = torch.tensor([fourier_entropy(window) for window in tqdm(features.numpy(), desc=\"fourier entropy\")])\n",
    "    pacf_values = torch.tensor([partial_autocorrelation(window, lag=0) for window in tqdm(features.numpy(), desc=\"partial autocorrelation entropy\")])\n",
    "    \n",
    "    # Stack all features together\n",
    "    features = torch.stack((mean_values, max_values, min_values, std_values, \n",
    "                            perm_entropy_values, fourier_entropy_values, pacf_values), dim=1)\n",
    "    \n",
    "    # Rearrange features into [windows, nodes] format\n",
    "    features = einops.rearrange(features, \"l f n -> l (f n)\")\n",
    "    \n",
    "    # Subsample the windows\n",
    "    return features[::subsample, :]"
   ]
  },
  {
   "cell_type": "code",
   "execution_count": 62,
   "metadata": {},
   "outputs": [
    {
     "name": "stdout",
     "output_type": "stream",
     "text": [
      "Extracting Node Fetures\n"
     ]
    },
    {
     "name": "stderr",
     "output_type": "stream",
     "text": [
      "permutation entropy:  55%|█████▌    | 401802/729999 [1:11:13<58:11, 94.01it/s]  \n"
     ]
    },
    {
     "ename": "KeyboardInterrupt",
     "evalue": "",
     "output_type": "error",
     "traceback": [
      "\u001b[0;31m---------------------------------------------------------------------------\u001b[0m",
      "\u001b[0;31mKeyboardInterrupt\u001b[0m                         Traceback (most recent call last)",
      "Cell \u001b[0;32mIn[62], line 5\u001b[0m\n\u001b[1;32m      3\u001b[0m edge_features \u001b[38;5;241m=\u001b[39m graph_data[\u001b[38;5;124m'\u001b[39m\u001b[38;5;124medge_attr\u001b[39m\u001b[38;5;124m'\u001b[39m]\n\u001b[1;32m      4\u001b[0m \u001b[38;5;28mprint\u001b[39m(\u001b[38;5;124m\"\u001b[39m\u001b[38;5;124mExtracting Node Fetures\u001b[39m\u001b[38;5;124m\"\u001b[39m)\n\u001b[0;32m----> 5\u001b[0m node_features \u001b[38;5;241m=\u001b[39m \u001b[43mpreprocess_data\u001b[49m\u001b[43m(\u001b[49m\u001b[43mnode_features\u001b[49m\u001b[43m,\u001b[49m\u001b[43m \u001b[49m\u001b[43mWINDOW_SIZE\u001b[49m\u001b[43m,\u001b[49m\u001b[43m \u001b[49m\u001b[43mSTRIDE\u001b[49m\u001b[43m,\u001b[49m\u001b[43m \u001b[49m\u001b[43mSUBSAMPLE_FACTOR\u001b[49m\u001b[43m)\u001b[49m\n\u001b[1;32m      6\u001b[0m \u001b[38;5;28mprint\u001b[39m(\u001b[38;5;124m\"\u001b[39m\u001b[38;5;124mExtracting Edge Fetures\u001b[39m\u001b[38;5;124m\"\u001b[39m)\n\u001b[1;32m      7\u001b[0m \u001b[38;5;66;03m# edge_features = einops.rearrange(graph_data['edge_attr'], \"l e -> (l e)\")\u001b[39;00m\n",
      "Cell \u001b[0;32mIn[49], line 55\u001b[0m, in \u001b[0;36mpreprocess_data\u001b[0;34m(features, window_size, stride, subsample)\u001b[0m\n\u001b[1;32m     52\u001b[0m std_values \u001b[38;5;241m=\u001b[39m features\u001b[38;5;241m.\u001b[39mstd(dim\u001b[38;5;241m=\u001b[39m\u001b[38;5;241m2\u001b[39m)  \u001b[38;5;66;03m# Standard deviation pooling\u001b[39;00m\n\u001b[1;32m     54\u001b[0m \u001b[38;5;66;03m# Compute additional features for each window\u001b[39;00m\n\u001b[0;32m---> 55\u001b[0m perm_entropy_values \u001b[38;5;241m=\u001b[39m torch\u001b[38;5;241m.\u001b[39mtensor([\u001b[43mpermutation_entropy\u001b[49m\u001b[43m(\u001b[49m\u001b[43mwindow\u001b[49m\u001b[43m)\u001b[49m \u001b[38;5;28;01mfor\u001b[39;00m window \u001b[38;5;129;01min\u001b[39;00m tqdm(features\u001b[38;5;241m.\u001b[39mnumpy(), desc\u001b[38;5;241m=\u001b[39m\u001b[38;5;124m\"\u001b[39m\u001b[38;5;124mpermutation entropy\u001b[39m\u001b[38;5;124m\"\u001b[39m)])\n\u001b[1;32m     56\u001b[0m fourier_entropy_values \u001b[38;5;241m=\u001b[39m torch\u001b[38;5;241m.\u001b[39mtensor([fourier_entropy(window) \u001b[38;5;28;01mfor\u001b[39;00m window \u001b[38;5;129;01min\u001b[39;00m tqdm(features\u001b[38;5;241m.\u001b[39mnumpy(), desc\u001b[38;5;241m=\u001b[39m\u001b[38;5;124m\"\u001b[39m\u001b[38;5;124mfourier entropy\u001b[39m\u001b[38;5;124m\"\u001b[39m)])\n\u001b[1;32m     57\u001b[0m pacf_values \u001b[38;5;241m=\u001b[39m torch\u001b[38;5;241m.\u001b[39mtensor([partial_autocorrelation(window, lag\u001b[38;5;241m=\u001b[39m\u001b[38;5;241m0\u001b[39m) \u001b[38;5;28;01mfor\u001b[39;00m window \u001b[38;5;129;01min\u001b[39;00m tqdm(features\u001b[38;5;241m.\u001b[39mnumpy(), desc\u001b[38;5;241m=\u001b[39m\u001b[38;5;124m\"\u001b[39m\u001b[38;5;124mpartial autocorrelation entropy\u001b[39m\u001b[38;5;124m\"\u001b[39m)])\n",
      "Cell \u001b[0;32mIn[49], line 18\u001b[0m, in \u001b[0;36mpermutation_entropy\u001b[0;34m(time_series, m, tau)\u001b[0m\n\u001b[1;32m     15\u001b[0m     permutation \u001b[38;5;241m=\u001b[39m np\u001b[38;5;241m.\u001b[39margsort(vec)\n\u001b[1;32m     16\u001b[0m     permutations\u001b[38;5;241m.\u001b[39mappend(\u001b[38;5;28mtuple\u001b[39m(permutation))\n\u001b[0;32m---> 18\u001b[0m unique_perms, counts \u001b[38;5;241m=\u001b[39m \u001b[43mnp\u001b[49m\u001b[38;5;241;43m.\u001b[39;49m\u001b[43munique\u001b[49m\u001b[43m(\u001b[49m\u001b[43mpermutations\u001b[49m\u001b[43m,\u001b[49m\u001b[43m \u001b[49m\u001b[43maxis\u001b[49m\u001b[38;5;241;43m=\u001b[39;49m\u001b[38;5;241;43m0\u001b[39;49m\u001b[43m,\u001b[49m\u001b[43m \u001b[49m\u001b[43mreturn_counts\u001b[49m\u001b[38;5;241;43m=\u001b[39;49m\u001b[38;5;28;43;01mTrue\u001b[39;49;00m\u001b[43m)\u001b[49m\n\u001b[1;32m     19\u001b[0m probs \u001b[38;5;241m=\u001b[39m counts \u001b[38;5;241m/\u001b[39m \u001b[38;5;28mlen\u001b[39m(permutations)\n\u001b[1;32m     20\u001b[0m results\u001b[38;5;241m.\u001b[39mappend(entropy(probs, base\u001b[38;5;241m=\u001b[39m\u001b[38;5;241m2\u001b[39m))\n",
      "File \u001b[0;32m~/miniconda3/envs/gnnleak/lib/python3.12/site-packages/numpy/lib/_arraysetops_impl.py:336\u001b[0m, in \u001b[0;36munique\u001b[0;34m(ar, return_index, return_inverse, return_counts, axis, equal_nan)\u001b[0m\n\u001b[1;32m    333\u001b[0m     uniq \u001b[38;5;241m=\u001b[39m np\u001b[38;5;241m.\u001b[39mmoveaxis(uniq, \u001b[38;5;241m0\u001b[39m, axis)\n\u001b[1;32m    334\u001b[0m     \u001b[38;5;28;01mreturn\u001b[39;00m uniq\n\u001b[0;32m--> 336\u001b[0m output \u001b[38;5;241m=\u001b[39m \u001b[43m_unique1d\u001b[49m\u001b[43m(\u001b[49m\u001b[43mconsolidated\u001b[49m\u001b[43m,\u001b[49m\u001b[43m \u001b[49m\u001b[43mreturn_index\u001b[49m\u001b[43m,\u001b[49m\n\u001b[1;32m    337\u001b[0m \u001b[43m                   \u001b[49m\u001b[43mreturn_inverse\u001b[49m\u001b[43m,\u001b[49m\u001b[43m \u001b[49m\u001b[43mreturn_counts\u001b[49m\u001b[43m,\u001b[49m\n\u001b[1;32m    338\u001b[0m \u001b[43m                   \u001b[49m\u001b[43mequal_nan\u001b[49m\u001b[38;5;241;43m=\u001b[39;49m\u001b[43mequal_nan\u001b[49m\u001b[43m,\u001b[49m\u001b[43m \u001b[49m\u001b[43minverse_shape\u001b[49m\u001b[38;5;241;43m=\u001b[39;49m\u001b[43minverse_shape\u001b[49m\u001b[43m,\u001b[49m\n\u001b[1;32m    339\u001b[0m \u001b[43m                   \u001b[49m\u001b[43maxis\u001b[49m\u001b[38;5;241;43m=\u001b[39;49m\u001b[43maxis\u001b[49m\u001b[43m)\u001b[49m\n\u001b[1;32m    340\u001b[0m output \u001b[38;5;241m=\u001b[39m (reshape_uniq(output[\u001b[38;5;241m0\u001b[39m]),) \u001b[38;5;241m+\u001b[39m output[\u001b[38;5;241m1\u001b[39m:]\n\u001b[1;32m    341\u001b[0m \u001b[38;5;28;01mreturn\u001b[39;00m _unpack_tuple(output)\n",
      "File \u001b[0;32m~/miniconda3/envs/gnnleak/lib/python3.12/site-packages/numpy/lib/_arraysetops_impl.py:386\u001b[0m, in \u001b[0;36m_unique1d\u001b[0;34m(ar, return_index, return_inverse, return_counts, equal_nan, inverse_shape, axis)\u001b[0m\n\u001b[1;32m    384\u001b[0m \u001b[38;5;28;01mif\u001b[39;00m return_counts:\n\u001b[1;32m    385\u001b[0m     idx \u001b[38;5;241m=\u001b[39m np\u001b[38;5;241m.\u001b[39mconcatenate(np\u001b[38;5;241m.\u001b[39mnonzero(mask) \u001b[38;5;241m+\u001b[39m ([mask\u001b[38;5;241m.\u001b[39msize],))\n\u001b[0;32m--> 386\u001b[0m     ret \u001b[38;5;241m+\u001b[39m\u001b[38;5;241m=\u001b[39m (\u001b[43mnp\u001b[49m\u001b[38;5;241;43m.\u001b[39;49m\u001b[43mdiff\u001b[49m\u001b[43m(\u001b[49m\u001b[43midx\u001b[49m\u001b[43m)\u001b[49m,)\n\u001b[1;32m    387\u001b[0m \u001b[38;5;28;01mreturn\u001b[39;00m ret\n",
      "File \u001b[0;32m~/miniconda3/envs/gnnleak/lib/python3.12/site-packages/numpy/lib/_function_base_impl.py:1514\u001b[0m, in \u001b[0;36mdiff\u001b[0;34m(a, n, axis, prepend, append)\u001b[0m\n\u001b[1;32m   1511\u001b[0m slice2 \u001b[38;5;241m=\u001b[39m \u001b[38;5;28mtuple\u001b[39m(slice2)\n\u001b[1;32m   1513\u001b[0m op \u001b[38;5;241m=\u001b[39m not_equal \u001b[38;5;28;01mif\u001b[39;00m a\u001b[38;5;241m.\u001b[39mdtype \u001b[38;5;241m==\u001b[39m np\u001b[38;5;241m.\u001b[39mbool \u001b[38;5;28;01melse\u001b[39;00m subtract\n\u001b[0;32m-> 1514\u001b[0m \u001b[38;5;28;01mfor\u001b[39;00m _ \u001b[38;5;129;01min\u001b[39;00m \u001b[38;5;28;43mrange\u001b[39;49m\u001b[43m(\u001b[49m\u001b[43mn\u001b[49m\u001b[43m)\u001b[49m:\n\u001b[1;32m   1515\u001b[0m     a \u001b[38;5;241m=\u001b[39m op(a[slice1], a[slice2])\n\u001b[1;32m   1517\u001b[0m \u001b[38;5;28;01mreturn\u001b[39;00m a\n",
      "\u001b[0;31mKeyboardInterrupt\u001b[0m: "
     ]
    }
   ],
   "source": [
    "# Process features and labels\n",
    "node_features = graph_data['node_features']\n",
    "edge_features = graph_data['edge_attr']\n",
    "print(\"Extracting Node Fetures\")\n",
    "node_features = preprocess_data(node_features, WINDOW_SIZE, STRIDE, SUBSAMPLE_FACTOR)\n",
    "print(\"Extracting Edge Fetures\")\n",
    "# edge_features = einops.rearrange(graph_data['edge_attr'], \"l e -> (l e)\")\n",
    "edge_features = preprocess_data(graph_data['edge_attr'], WINDOW_SIZE, STRIDE, SUBSAMPLE_FACTOR)\n",
    "window_labels = graph_data['y'].unfold(0, WINDOW_SIZE, STRIDE).max(dim=2).values[::SUBSAMPLE_FACTOR, :]\n",
    "window_scenarios = graph_data['scenario'].unfold(0, WINDOW_SIZE, STRIDE).mode(dim=2).values[::SUBSAMPLE_FACTOR, :]\n",
    "print(node_features)\n",
    "print(edge_features)\n",
    "print(window_labels)\n",
    "print(window_scenarios)"
   ]
  },
  {
   "cell_type": "markdown",
   "metadata": {},
   "source": [
    "## Windowing"
   ]
  },
  {
   "cell_type": "code",
   "execution_count": 6,
   "metadata": {},
   "outputs": [],
   "source": [
    "# Temporal parameters\n",
    "WINDOW_SIZE = 24\n",
    "SUBSAMPLE_FACTOR = 1  # Reduced subsampling for more windows\n",
    "STRIDE = 18\n",
    "num_nodes = graph_data['node_features'].shape[1]\n",
    "\n",
    "def preprocess_data(features, window_size, stride, subsample):\n",
    "    \"\"\"Process features into [windows, nodes] formatn\"\"\"\n",
    "    # Slice data into overlapping windows\n",
    "    features = features.unfold(0, window_size, stride).float()\n",
    "    features = einops.rearrange(features, \"l n w -> l (w n)\")\n",
    "    \n",
    "    # Subsample the windows\n",
    "    return features[::subsample, :]"
   ]
  },
  {
   "cell_type": "code",
   "execution_count": 7,
   "metadata": {},
   "outputs": [
    {
     "name": "stdout",
     "output_type": "stream",
     "text": [
      "tensor[973333, 768] n=747519744 (2.8Gb) x∈[0., 69.985] μ=61.383 σ=11.861\n",
      "tensor[973333, 1632] n=1588479456 (5.9Gb) x∈[-3.726e+03, 1.344e+04] μ=835.521 σ=1.509e+03\n",
      "tensor[973333, 32] i64 n=31146656 (0.2Gb) x∈[0, 1] μ=0.008 σ=0.088\n",
      "tensor[973333, 1] i32 3.7Mb x∈[1, 1000] μ=500.500 σ=288.675\n"
     ]
    }
   ],
   "source": [
    "# Process features and labels\n",
    "node_features = preprocess_data(graph_data['node_features'], WINDOW_SIZE, STRIDE, SUBSAMPLE_FACTOR)\n",
    "edge_features = preprocess_data(graph_data['edge_attr'], WINDOW_SIZE, STRIDE, SUBSAMPLE_FACTOR)\n",
    "window_labels = graph_data['y'].unfold(0, WINDOW_SIZE, STRIDE).max(dim=2).values[::SUBSAMPLE_FACTOR, :]\n",
    "window_scenarios = graph_data['scenario'].unfold(0, WINDOW_SIZE, STRIDE).mode(dim=2).values[::SUBSAMPLE_FACTOR, :]\n",
    "print(node_features)\n",
    "print(edge_features)\n",
    "print(window_labels)\n",
    "print(window_scenarios)"
   ]
  },
  {
   "cell_type": "code",
   "execution_count": 8,
   "metadata": {},
   "outputs": [],
   "source": [
    "torch.save({\n",
    "    'node_features': node_features,\n",
    "    'window_labels': window_labels,\n",
    "    \"edge_features\": edge_features,\n",
    "    'window_scenarios': window_scenarios,\n",
    "    \"edge_index\": graph_data['edge_index'].long().t().contiguous(),\n",
    "},\n",
    "    \"data/processed_windowed_data_W24_S1_STRIDE18.pt\"           \n",
    ")"
   ]
  },
  {
   "cell_type": "markdown",
   "metadata": {},
   "source": [
    "## Double Windowing"
   ]
  },
  {
   "cell_type": "code",
   "execution_count": 83,
   "metadata": {},
   "outputs": [],
   "source": [
    "# Temporal parameters\n",
    "WINDOW_SIZE = 256\n",
    "DOUBLE_WINDOW_SIZE = 4\n",
    "SUBSAMPLE_FACTOR = 1  # Reduced subsampling for more windows\n",
    "STRIDE = 128\n",
    "num_nodes = graph_data['node_features'].shape[1]\n",
    "\n",
    "def preprocess_data(features, window_size, stride, subsample):\n",
    "    \"\"\"Process features into [windows, nodes] formatn\"\"\"\n",
    "    # Slice data into overlapping windows\n",
    "    features = features.unfold(0, window_size, stride).float()\n",
    "    \n",
    "    mean_values = features.mean(dim=2)  # Mean pooling\n",
    "    max_values = features.max(dim=2).values  # Max pooling\n",
    "    min_values = features.min(dim=2).values  # Min pooling\n",
    "    std_values = features.std(dim=2)  # Standard deviation pooling\n",
    "    \n",
    "    features = torch.stack((mean_values, max_values, min_values, std_values), dim=1)\n",
    "    features = einops.rearrange(features, \"l f n -> l (f n)\")\n",
    "    \n",
    "    # Subsample the windows\n",
    "    return features[::subsample, :]\n"
   ]
  },
  {
   "cell_type": "code",
   "execution_count": 84,
   "metadata": {},
   "outputs": [
    {
     "name": "stdout",
     "output_type": "stream",
     "text": [
      "tensor[136874, 128] n=17519872 (67Mb) x∈[0., 69.985] μ=46.331 σ=27.324\n",
      "tensor[136874, 272] n=37229728 (0.1Gb) x∈[-3.726e+03, 1.344e+04] μ=691.170 σ=1.419e+03\n",
      "tensor[136874, 32] i64 n=4379968 (33Mb) x∈[0, 1] μ=0.008 σ=0.090\n",
      "tensor[136874, 1] i32 0.5Mb x∈[1, 1000] μ=500.503 σ=288.676\n"
     ]
    }
   ],
   "source": [
    "# Process features and labels\n",
    "node_features = preprocess_data(graph_data['node_features'], WINDOW_SIZE, STRIDE, SUBSAMPLE_FACTOR)\n",
    "edge_features = preprocess_data(graph_data['edge_attr'], WINDOW_SIZE, STRIDE, SUBSAMPLE_FACTOR)\n",
    "window_labels = graph_data['y'].unfold(0, WINDOW_SIZE, STRIDE).max(dim=2).values[::SUBSAMPLE_FACTOR, :]\n",
    "window_scenarios = graph_data['scenario'].unfold(0, WINDOW_SIZE, STRIDE).mode(dim=2).values[::SUBSAMPLE_FACTOR, :]\n",
    "print(node_features)\n",
    "print(edge_features)\n",
    "print(window_labels)\n",
    "print(window_scenarios)"
   ]
  },
  {
   "cell_type": "code",
   "execution_count": 85,
   "metadata": {},
   "outputs": [],
   "source": [
    "def sliding_window(tensor, window_size, n):\n",
    "    \"\"\"\n",
    "    Apply a sliding window operation on the input tensor.\n",
    "\n",
    "    Args:\n",
    "        tensor (torch.Tensor): Input tensor of shape [N, F].\n",
    "        window_size (int): The size of the sliding window.\n",
    "\n",
    "    Returns:\n",
    "        torch.Tensor: Output tensor of shape [N, window_size * F].\n",
    "    \"\"\"\n",
    "    N, F = tensor.shape\n",
    "    # Create a padded tensor to handle the boundary conditions\n",
    "    padded_tensor = torch.zeros((N + window_size - 1, F), dtype=tensor.dtype, device=tensor.device)\n",
    "    padded_tensor[window_size - 1:] = tensor  # Place the original tensor at the end of the padded tensor\n",
    "\n",
    "    # Initialize the output tensor\n",
    "    output_tensor = torch.zeros((N, window_size * F), dtype=tensor.dtype, device=tensor.device)\n",
    "\n",
    "    # Fill the output tensor with the sliding window values\n",
    "    for i in range(N):\n",
    "        # Get the window for the current time step\n",
    "        window = padded_tensor[i:i + window_size, :]\n",
    "        # Flatten the window and store it in the output tensor\n",
    "        output_tensor[i, :] = window.flatten()\n",
    "\n",
    "    return output_tensor"
   ]
  },
  {
   "cell_type": "code",
   "execution_count": 86,
   "metadata": {},
   "outputs": [
    {
     "name": "stdout",
     "output_type": "stream",
     "text": [
      "tensor[136874, 512] n=70079488 (0.3Gb) x∈[0., 69.985] μ=46.330 σ=27.324\n",
      "tensor[136874, 1088] n=148918912 (0.6Gb) x∈[-3.726e+03, 1.344e+04] μ=691.164 σ=1.419e+03\n"
     ]
    }
   ],
   "source": [
    "node_features = sliding_window(node_features, DOUBLE_WINDOW_SIZE, n=num_nodes)\n",
    "edge_features = sliding_window(edge_features, DOUBLE_WINDOW_SIZE, n=num_edges)\n",
    "print(node_features)\n",
    "print(edge_features)"
   ]
  },
  {
   "cell_type": "code",
   "execution_count": 87,
   "metadata": {},
   "outputs": [],
   "source": [
    "torch.save({\n",
    "    'node_features': node_features,\n",
    "    'window_labels': window_labels,\n",
    "    \"edge_features\": edge_features,\n",
    "    'window_scenarios': window_scenarios,\n",
    "    \"edge_index\": graph_data['edge_index'].long().t().contiguous(),\n",
    "},\n",
    "    f\"data/processed_doublewindowed_data_W{WINDOW_SIZE}W{DOUBLE_WINDOW_SIZE}_S{SUBSAMPLE_FACTOR}_STRIDE{STRIDE}.pt\"           \n",
    ")"
   ]
  },
  {
   "cell_type": "code",
   "execution_count": null,
   "metadata": {},
   "outputs": [],
   "source": []
  }
 ],
 "metadata": {
  "kernelspec": {
   "display_name": "gnnleak",
   "language": "python",
   "name": "python3"
  },
  "language_info": {
   "codemirror_mode": {
    "name": "ipython",
    "version": 3
   },
   "file_extension": ".py",
   "mimetype": "text/x-python",
   "name": "python",
   "nbconvert_exporter": "python",
   "pygments_lexer": "ipython3",
   "version": "3.12.3"
  }
 },
 "nbformat": 4,
 "nbformat_minor": 2
}
