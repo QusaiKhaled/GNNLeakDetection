{
 "cells": [
  {
   "cell_type": "code",
   "execution_count": 1,
   "metadata": {},
   "outputs": [
    {
     "name": "stderr",
     "output_type": "stream",
     "text": [
      "/home/pasquale/miniconda3/envs/gnnleak/lib/python3.12/site-packages/torch_geometric/typing.py:97: UserWarning: An issue occurred while importing 'torch-cluster'. Disabling its usage. Stacktrace: /home/pasquale/miniconda3/envs/gnnleak/lib/python3.12/site-packages/torch_cluster/_version_cuda.so: undefined symbol: _ZN5torch3jit17parseSchemaOrNameERKSsb\n",
      "  warnings.warn(f\"An issue occurred while importing 'torch-cluster'. \"\n"
     ]
    }
   ],
   "source": [
    "import torch\n",
    "import numpy as np\n",
    "import pandas as pd\n",
    "from torch_geometric.data import Data\n",
    "from torch_geometric.nn import GATConv, global_mean_pool\n",
    "from torch_geometric.loader import DataLoader\n",
    "from sklearn.preprocessing import StandardScaler\n",
    "from sklearn.metrics import precision_recall_fscore_support, roc_auc_score, roc_curve, precision_recall_curve\n",
    "from torch.nn.utils import clip_grad_norm_\n",
    "import matplotlib.pyplot as plt\n",
    "from torch_geometric.nn import BatchNorm\n",
    "from tqdm import tqdm\n",
    "from sklearn.metrics import confusion_matrix\n",
    "import seaborn as sns\n",
    "from scipy.stats import skew, kurtosis, linregress\n",
    "from scipy.signal import find_peaks\n",
    "import einops\n",
    "\n",
    "import lovely_tensors as lt\n",
    "lt.monkey_patch()"
   ]
  },
  {
   "cell_type": "code",
   "execution_count": 2,
   "metadata": {},
   "outputs": [
    {
     "name": "stdout",
     "output_type": "stream",
     "text": [
      "Loading and preprocessing data...\n"
     ]
    },
    {
     "name": "stderr",
     "output_type": "stream",
     "text": [
      "/tmp/ipykernel_207102/1167354728.py:3: FutureWarning: You are using `torch.load` with `weights_only=False` (the current default value), which uses the default pickle module implicitly. It is possible to construct malicious pickle data which will execute arbitrary code during unpickling (See https://github.com/pytorch/pytorch/blob/main/SECURITY.md#untrusted-models for more details). In a future release, the default value for `weights_only` will be flipped to `True`. This limits the functions that could be executed during unpickling. Arbitrary objects will no longer be allowed to be loaded via this mode unless they are explicitly allowlisted by the user via `torch.serialization.add_safe_globals`. We recommend you start setting `weights_only=True` for any use case where you don't have full control of the loaded file. Please open an issue on GitHub for any issues related to this experimental feature.\n",
      "  graph_data = torch.load('data/graph_data_torch.pt')\n"
     ]
    }
   ],
   "source": [
    "#%% Data Loading and Preprocessing\n",
    "print(\"Loading and preprocessing data...\")\n",
    "graph_data = torch.load('data/graph_data_torch.pt')"
   ]
  },
  {
   "cell_type": "code",
   "execution_count": 3,
   "metadata": {},
   "outputs": [],
   "source": [
    "num_nodes = graph_data['node_features'].shape[1]\n",
    "num_edges = graph_data['edge_index'].shape[0]"
   ]
  },
  {
   "cell_type": "code",
   "execution_count": 4,
   "metadata": {},
   "outputs": [
    {
     "data": {
      "text/plain": [
       "{'scenario': tensor[17520000, 1] i32 67Mb x∈[1, 1000] μ=500.500 σ=288.675,\n",
       " 'node_features': tensor[17520000, 32] n=560640000 (2.1Gb) x∈[0., 69.985] μ=61.383 σ=11.861,\n",
       " 'edge_attr': tensor[17520000, 34] n=595680000 (2.2Gb) x∈[-3.726e+03, 1.344e+04] μ=835.518 σ=1.509e+03,\n",
       " 'edge_index': tensor[34, 2] i64 n=68 x∈[0, 31] μ=15.471 σ=9.229,\n",
       " 'y': tensor[17520000, 32] i64 n=560640000 (4.2Gb) x∈[0, 1] μ=0.008 σ=0.087}"
      ]
     },
     "execution_count": 4,
     "metadata": {},
     "output_type": "execute_result"
    }
   ],
   "source": [
    "graph_data"
   ]
  },
  {
   "cell_type": "code",
   "execution_count": 5,
   "metadata": {},
   "outputs": [],
   "source": [
    "graph_data[\"edge_attr\"] = torch.cat([graph_data[\"edge_attr\"], graph_data[\"edge_attr\"]], dim=1)\n",
    "edges_reversed = torch.stack([reversed(e) for e in graph_data[\"edge_index\"].reshape(-1, 2)])\n",
    "edge_index = torch.cat([graph_data[\"edge_index\"], edges_reversed], dim=0)\n",
    "graph_data[\"edge_index\"] = edge_index"
   ]
  },
  {
   "cell_type": "markdown",
   "metadata": {},
   "source": [
    "### Feature Extraction"
   ]
  },
  {
   "cell_type": "code",
   "execution_count": 28,
   "metadata": {},
   "outputs": [],
   "source": [
    "# Temporal parameters\n",
    "WINDOW_SIZE = 24     \n",
    "SUBSAMPLE_FACTOR = 10  # Reduced subsampling for more windows\n",
    "STRIDE = 12\n",
    "num_nodes = graph_data['node_features'].shape[1]\n",
    "\n",
    "def preprocess_data(features, window_size, stride, subsample):\n",
    "    \"\"\"Process features into [windows, nodes] format with mean, max, min, and std aggregation\"\"\"\n",
    "    # Slice data into overlapping windows\n",
    "    features = features.unfold(0, window_size, stride).float()\n",
    "    \n",
    "    # Compute mean, max, min, and std pooling within each window\n",
    "    mean_values = features.mean(dim=2)  # Mean pooling\n",
    "    max_values = features.max(dim=2).values  # Max pooling\n",
    "    min_values = features.min(dim=2).values  # Min pooling\n",
    "    std_values = features.std(dim=2)  # Standard deviation pooling\n",
    "    \n",
    "    # Combine mean, max, min, and std into a single representation\n",
    "    combined_features = torch.cat((mean_values, max_values, min_values, std_values), dim=1)  # Concatenate along feature axis\n",
    "    \n",
    "    # Subsample the windows\n",
    "    return combined_features[::subsample, :]"
   ]
  },
  {
   "cell_type": "code",
   "execution_count": 29,
   "metadata": {},
   "outputs": [
    {
     "name": "stdout",
     "output_type": "stream",
     "text": [
      "tensor[146000, 128] n=18688000 (71Mb) x∈[0., 69.984] μ=46.181 σ=27.628\n",
      "tensor[146000, 272] n=39712000 (0.1Gb) x∈[-3.676e+03, 1.337e+04] μ=687.584 σ=1.380e+03\n",
      "tensor[146000, 32] i64 n=4672000 (36Mb) x∈[0, 1] μ=0.008 σ=0.088\n",
      "tensor[146000, 1] i32 0.6Mb x∈[1, 1000] μ=500.502 σ=288.676\n"
     ]
    }
   ],
   "source": [
    "# Process features and labels\n",
    "node_features = preprocess_data(graph_data['node_features'], WINDOW_SIZE, SUBSAMPLE_FACTOR)\n",
    "edge_features = preprocess_data(graph_data['edge_attr'], WINDOW_SIZE, SUBSAMPLE_FACTOR)\n",
    "window_labels = graph_data['y'].unfold(0, WINDOW_SIZE, WINDOW_SIZE).max(dim=2).values[::SUBSAMPLE_FACTOR, :]\n",
    "window_scenarios = graph_data['scenario'].unfold(0, WINDOW_SIZE, WINDOW_SIZE).mode(dim=2).values[::SUBSAMPLE_FACTOR, :]\n",
    "print(node_features)\n",
    "print(edge_features)\n",
    "print(window_labels)\n",
    "print(window_scenarios)"
   ]
  },
  {
   "cell_type": "code",
   "execution_count": 13,
   "metadata": {},
   "outputs": [],
   "source": [
    "torch.save({\n",
    "    'node_features': node_features,\n",
    "    'window_labels': window_labels,\n",
    "    \"edge_features\": edge_features,\n",
    "    'window_scenarios': window_scenarios,\n",
    "    \"edge_index\": graph_data['edge_index'].long().t().contiguous(),\n",
    "},\n",
    "    \"data/processed_data_W12_S10.pt\"           \n",
    ")"
   ]
  },
  {
   "cell_type": "markdown",
   "metadata": {},
   "source": [
    "## More Features"
   ]
  },
  {
   "cell_type": "code",
   "execution_count": null,
   "metadata": {},
   "outputs": [],
   "source": [
    "# Temporal parameters\n",
    "WINDOW_SIZE = 12     \n",
    "SUBSAMPLE_FACTOR = 10  # Reduced subsampling for more windows\n",
    "\n",
    "def preprocess_data(features, window_size, subsample):\n",
    "    \"\"\"Process features into [windows, nodes] format with mean, max, min, std, and additional features\"\"\"\n",
    "    # Slice data into overlapping windows\n",
    "    features = features.unfold(0, window_size, window_size).float()\n",
    "    \n",
    "    print(\"Extracting mean, max, min, and std pooling within each window...\")\n",
    "    # Compute mean, max, min, and std pooling within each window\n",
    "    mean_values = features.mean(dim=1)  # Mean pooling\n",
    "    max_values = features.max(dim=1).values  # Max pooling\n",
    "    min_values = features.min(dim=1).values  # Min pooling\n",
    "    std_values = features.std(dim=1)  # Standard deviation pooling\n",
    "    \n",
    "    print(\"Extracting median, variance from each window...\")\n",
    "    # Additional statistical features\n",
    "    median_values = features.median(dim=1).values  # Median pooling\n",
    "    variance_values = features.var(dim=1)  # Variance pooling\n",
    "    \n",
    "    print(\"Extracting skewness and kurtosis from each window...\")\n",
    "    # Calculate skewness and kurtosis using scipy.stats\n",
    "    skewness_values = torch.tensor([skew(window.numpy()) for window in tqdm(features, desc=\"Calculating skewness\")])  # Skewness\n",
    "    kurtosis_values = torch.tensor([kurtosis(window.numpy()) for window in tqdm(features, desc=\"Calculating kurtosis\")])  # Kurtosis\n",
    "    \n",
    "    print(\"Extracting temporal features (autocorrelation, linear trend, zero-crossings, peaks)...\")\n",
    "    # Temporal features\n",
    "    autocorrelation_values = torch.tensor([np.correlate(window, window, mode='full')[len(window) - 1] / len(window) \n",
    "                                           for window in tqdm(features.numpy(), desc=\"Calculating autocorrelation\")])  # Autocorrelation at lag 0\n",
    "    linear_trend_values = torch.tensor([linregress(np.arange(len(window)), window.numpy()).slope \n",
    "                                        for window in tqdm(features, desc=\"Calculating linear trend\")])  # Linear trend (slope)\n",
    "    zero_crossings_values = torch.tensor([((window[:-1] * window[1:]) < 0).sum().item() \n",
    "                                          for window in tqdm(features, desc=\"Calculating zero-crossings\")])  # Zero-crossings\n",
    "    peaks_values = torch.tensor([len(find_peaks(window.numpy())[0]) for window in tqdm(features.numpy(), desc=\"Finding peaks\")])  # Number of peaks\n",
    "    \n",
    "    print(\"Combining all features into a single representation...\")\n",
    "    # Combine all features into a single representation\n",
    "    combined_features = torch.cat((mean_values, max_values, min_values, std_values, \n",
    "                                   median_values, variance_values, skewness_values.unsqueeze(1), \n",
    "                                   kurtosis_values.unsqueeze(1), autocorrelation_values.unsqueeze(1), \n",
    "                                   linear_trend_values.unsqueeze(1), zero_crossings_values.unsqueeze(1), \n",
    "                                   peaks_values.unsqueeze(1)), dim=1)  # Concatenate along feature axis\n",
    "    \n",
    "    print(\"Subsampling the windows...\")\n",
    "    # Subsample the windows\n",
    "    return combined_features[::subsample, :]"
   ]
  },
  {
   "cell_type": "code",
   "execution_count": null,
   "metadata": {},
   "outputs": [],
   "source": [
    "# Process features and labels\n",
    "print(\"Extracting Node Fetures\")\n",
    "node_features = einops.rearrange(graph_data['node_features'], \"l n -> (l n)\")\n",
    "node_features = preprocess_data(node_features, WINDOW_SIZE, SUBSAMPLE_FACTOR)\n",
    "node_features = einops.rearrange(node_features, \"(l n) f -> l n f\", n=num_nodes)\n",
    "print(\"Extracting Edge Fetures\")\n",
    "edge_features = einops.rearrange(graph_data['edge_attr'], \"l e -> (l e)\")\n",
    "edge_features = preprocess_data(graph_data['edge_attr'], WINDOW_SIZE, SUBSAMPLE_FACTOR)\n",
    "edge_features = einops.rearrange(edge_features, \"(l e) f -> l e f\", e=num_edges)\n",
    "window_labels = graph_data['y'].unfold(0, WINDOW_SIZE, WINDOW_SIZE).max(dim=2).values[::SUBSAMPLE_FACTOR, :]\n",
    "window_scenarios = graph_data['scenario'].unfold(0, WINDOW_SIZE, WINDOW_SIZE).mode(dim=2).values[::SUBSAMPLE_FACTOR, :]\n",
    "print(node_features)\n",
    "print(edge_features)\n",
    "print(window_labels)\n",
    "print(window_scenarios)"
   ]
  },
  {
   "cell_type": "markdown",
   "metadata": {},
   "source": [
    "## Windowing"
   ]
  },
  {
   "cell_type": "code",
   "execution_count": 7,
   "metadata": {},
   "outputs": [],
   "source": [
    "# Temporal parameters\n",
    "WINDOW_SIZE = 24\n",
    "SUBSAMPLE_FACTOR = 1  # Reduced subsampling for more windows\n",
    "STRIDE = 18\n",
    "num_nodes = graph_data['node_features'].shape[1]\n",
    "\n",
    "def preprocess_data(features, window_size, stride, subsample):\n",
    "    \"\"\"Process features into [windows, nodes] formatn\"\"\"\n",
    "    # Slice data into overlapping windows\n",
    "    features = features.unfold(0, window_size, stride).float()\n",
    "    features = einops.rearrange(features, \"l n w -> l (w n)\")\n",
    "    \n",
    "    # Subsample the windows\n",
    "    return features[::subsample, :]"
   ]
  },
  {
   "cell_type": "code",
   "execution_count": 8,
   "metadata": {},
   "outputs": [
    {
     "name": "stdout",
     "output_type": "stream",
     "text": [
      "tensor[973333, 768] n=747519744 (2.8Gb) x∈[0., 69.985] μ=61.383 σ=11.861\n",
      "tensor[973333, 1632] n=1588479456 (5.9Gb) x∈[-3.726e+03, 1.344e+04] μ=835.521 σ=1.509e+03\n",
      "tensor[973333, 32] i64 n=31146656 (0.2Gb) x∈[0, 1] μ=0.008 σ=0.088\n",
      "tensor[973333, 1] i32 3.7Mb x∈[1, 1000] μ=500.500 σ=288.675\n"
     ]
    }
   ],
   "source": [
    "# Process features and labels\n",
    "node_features = preprocess_data(graph_data['node_features'], WINDOW_SIZE, STRIDE, SUBSAMPLE_FACTOR)\n",
    "edge_features = preprocess_data(graph_data['edge_attr'], WINDOW_SIZE, STRIDE, SUBSAMPLE_FACTOR)\n",
    "window_labels = graph_data['y'].unfold(0, WINDOW_SIZE, STRIDE).max(dim=2).values[::SUBSAMPLE_FACTOR, :]\n",
    "window_scenarios = graph_data['scenario'].unfold(0, WINDOW_SIZE, STRIDE).mode(dim=2).values[::SUBSAMPLE_FACTOR, :]\n",
    "print(node_features)\n",
    "print(edge_features)\n",
    "print(window_labels)\n",
    "print(window_scenarios)"
   ]
  },
  {
   "cell_type": "code",
   "execution_count": 9,
   "metadata": {},
   "outputs": [],
   "source": [
    "torch.save({\n",
    "    'node_features': node_features,\n",
    "    'window_labels': window_labels,\n",
    "    \"edge_features\": edge_features,\n",
    "    'window_scenarios': window_scenarios,\n",
    "    \"edge_index\": graph_data['edge_index'].long().t().contiguous(),\n",
    "},\n",
    "    \"data/processed_windowed_data_W24_S1_STRIDE18.pt\"           \n",
    ")"
   ]
  },
  {
   "cell_type": "markdown",
   "metadata": {},
   "source": [
    "## Double Windowing"
   ]
  },
  {
   "cell_type": "code",
   "execution_count": 12,
   "metadata": {},
   "outputs": [],
   "source": [
    "# Temporal parameters\n",
    "WINDOW_SIZE = 24\n",
    "DOUBLE_WINDOW_SIZE = 4\n",
    "SUBSAMPLE_FACTOR = 1  # Reduced subsampling for more windows\n",
    "STRIDE = 18\n",
    "num_nodes = graph_data['node_features'].shape[1]\n",
    "\n",
    "def preprocess_data(features, window_size, stride, subsample):\n",
    "    \"\"\"Process features into [windows, nodes] formatn\"\"\"\n",
    "    # Slice data into overlapping windows\n",
    "    features = features.unfold(0, window_size, stride).float()\n",
    "    \n",
    "    mean_values = features.mean(dim=2)  # Mean pooling\n",
    "    max_values = features.max(dim=2).values  # Max pooling\n",
    "    min_values = features.min(dim=2).values  # Min pooling\n",
    "    std_values = features.std(dim=2)  # Standard deviation pooling\n",
    "    \n",
    "    features = torch.stack((mean_values, max_values, min_values, std_values), dim=2)\n",
    "    features = einops.rearrange(features, \"l f n -> l (f n)\")\n",
    "    \n",
    "    # Subsample the windows\n",
    "    return features[::subsample, :]\n"
   ]
  },
  {
   "cell_type": "code",
   "execution_count": 13,
   "metadata": {},
   "outputs": [
    {
     "name": "stdout",
     "output_type": "stream",
     "text": [
      "tensor[973333, 128] n=124586624 (0.5Gb) x∈[0., 69.985] μ=46.614 σ=27.597\n",
      "tensor[973333, 272] n=264746576 (1.0Gb) x∈[-3.726e+03, 1.344e+04] μ=671.126 σ=1.342e+03\n",
      "tensor[973333, 32] i64 n=31146656 (0.2Gb) x∈[0, 1] μ=0.008 σ=0.088\n",
      "tensor[973333, 1] i32 3.7Mb x∈[1, 1000] μ=500.500 σ=288.675\n"
     ]
    }
   ],
   "source": [
    "# Process features and labels\n",
    "node_features = preprocess_data(graph_data['node_features'], WINDOW_SIZE, STRIDE, SUBSAMPLE_FACTOR)\n",
    "edge_features = preprocess_data(graph_data['edge_attr'], WINDOW_SIZE, STRIDE, SUBSAMPLE_FACTOR)\n",
    "window_labels = graph_data['y'].unfold(0, WINDOW_SIZE, STRIDE).max(dim=2).values[::SUBSAMPLE_FACTOR, :]\n",
    "window_scenarios = graph_data['scenario'].unfold(0, WINDOW_SIZE, STRIDE).mode(dim=2).values[::SUBSAMPLE_FACTOR, :]\n",
    "print(node_features)\n",
    "print(edge_features)\n",
    "print(window_labels)\n",
    "print(window_scenarios)"
   ]
  },
  {
   "cell_type": "code",
   "execution_count": 14,
   "metadata": {},
   "outputs": [],
   "source": [
    "def sliding_window(tensor, window_size, n):\n",
    "    \"\"\"\n",
    "    Apply a sliding window operation on the input tensor.\n",
    "\n",
    "    Args:\n",
    "        tensor (torch.Tensor): Input tensor of shape [N, F].\n",
    "        window_size (int): The size of the sliding window.\n",
    "\n",
    "    Returns:\n",
    "        torch.Tensor: Output tensor of shape [N, window_size * F].\n",
    "    \"\"\"\n",
    "    N, F = tensor.shape\n",
    "    # Create a padded tensor to handle the boundary conditions\n",
    "    padded_tensor = torch.zeros((N + window_size - 1, F), dtype=tensor.dtype, device=tensor.device)\n",
    "    padded_tensor[window_size - 1:] = tensor  # Place the original tensor at the end of the padded tensor\n",
    "\n",
    "    # Initialize the output tensor\n",
    "    output_tensor = torch.zeros((N, window_size * F), dtype=tensor.dtype, device=tensor.device)\n",
    "\n",
    "    # Fill the output tensor with the sliding window values\n",
    "    for i in range(N):\n",
    "        # Get the window for the current time step\n",
    "        window = padded_tensor[i:i + window_size, :]\n",
    "        # Flatten the window and store it in the output tensor\n",
    "        output_tensor[i, :] = window.flatten()\n",
    "\n",
    "    return output_tensor"
   ]
  },
  {
   "cell_type": "code",
   "execution_count": 15,
   "metadata": {},
   "outputs": [
    {
     "name": "stdout",
     "output_type": "stream",
     "text": [
      "tensor[973333, 512] n=498346496 (1.9Gb) x∈[0., 69.985] μ=46.613 σ=27.597\n",
      "tensor[973333, 1088] n=1058986304 (3.9Gb) x∈[-3.726e+03, 1.344e+04] μ=671.126 σ=1.342e+03\n"
     ]
    }
   ],
   "source": [
    "node_features = sliding_window(node_features, DOUBLE_WINDOW_SIZE, n=num_nodes)\n",
    "edge_features = sliding_window(edge_features, DOUBLE_WINDOW_SIZE, n=num_edges)\n",
    "print(node_features)\n",
    "print(edge_features)"
   ]
  },
  {
   "cell_type": "markdown",
   "metadata": {},
   "source": []
  },
  {
   "cell_type": "code",
   "execution_count": 17,
   "metadata": {},
   "outputs": [],
   "source": [
    "torch.save({\n",
    "    'node_features': node_features,\n",
    "    'window_labels': window_labels,\n",
    "    \"edge_features\": edge_features,\n",
    "    'window_scenarios': window_scenarios,\n",
    "    \"edge_index\": graph_data['edge_index'].long().t().contiguous(),\n",
    "},\n",
    "    \"data/processed_doublewindowed_data_W24W4_S1_STRIDE18.pt\"           \n",
    ")"
   ]
  },
  {
   "cell_type": "code",
   "execution_count": null,
   "metadata": {},
   "outputs": [],
   "source": []
  }
 ],
 "metadata": {
  "kernelspec": {
   "display_name": "gnnleak",
   "language": "python",
   "name": "python3"
  },
  "language_info": {
   "codemirror_mode": {
    "name": "ipython",
    "version": 3
   },
   "file_extension": ".py",
   "mimetype": "text/x-python",
   "name": "python",
   "nbconvert_exporter": "python",
   "pygments_lexer": "ipython3",
   "version": "3.12.3"
  }
 },
 "nbformat": 4,
 "nbformat_minor": 2
}
