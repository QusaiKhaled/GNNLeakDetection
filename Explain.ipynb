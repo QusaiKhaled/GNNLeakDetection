{
 "cells": [
  {
   "cell_type": "code",
   "execution_count": 1,
   "metadata": {},
   "outputs": [
    {
     "name": "stderr",
     "output_type": "stream",
     "text": [
      "/home/pasquale/miniconda3/envs/gnnleak/lib/python3.12/site-packages/torch_geometric/typing.py:97: UserWarning: An issue occurred while importing 'torch-cluster'. Disabling its usage. Stacktrace: /home/pasquale/miniconda3/envs/gnnleak/lib/python3.12/site-packages/torch_cluster/_version_cuda.so: undefined symbol: _ZN5torch3jit17parseSchemaOrNameERKSsb\n",
      "  warnings.warn(f\"An issue occurred while importing 'torch-cluster'. \"\n"
     ]
    }
   ],
   "source": [
    "import torch\n",
    "import json\n",
    "import pandas as pd\n",
    "import matplotlib.pyplot as plt\n",
    "\n",
    "from torch_geometric.loader import DataLoader\n",
    "from torch_geometric import explain\n",
    "from torch_geometric.data import Data\n",
    "\n",
    "from torch_geometric.explain import unfaithfulness\n",
    "from yfiles_jupyter_graphs import GraphWidget\n",
    "\n",
    "from model import get_model\n",
    "from data import get_data"
   ]
  },
  {
   "cell_type": "code",
   "execution_count": 2,
   "metadata": {},
   "outputs": [
    {
     "name": "stdout",
     "output_type": "stream",
     "text": [
      "x_train: tensor[1167999, 33] n=38543967 (0.1Gb) x∈[3.345e-06, 1.000] μ=0.333 σ=0.333\n",
      "x_val: tensor[146000, 33] n=4818000 (18Mb) x∈[4.342e-05, 0.999] μ=0.333 σ=0.327\n",
      "x_test: tensor[146000, 33] n=4818000 (18Mb) x∈[3.090e-06, 1.000] μ=0.333 σ=0.333\n",
      "----\n",
      "No edge features\n"
     ]
    },
    {
     "name": "stderr",
     "output_type": "stream",
     "text": [
      "100%|██████████| 1167999/1167999 [00:17<00:00, 66506.70it/s]\n"
     ]
    },
    {
     "name": "stdout",
     "output_type": "stream",
     "text": [
      "Train data created\n"
     ]
    },
    {
     "name": "stderr",
     "output_type": "stream",
     "text": [
      "100%|██████████| 146000/146000 [00:01<00:00, 93265.45it/s]\n"
     ]
    },
    {
     "name": "stdout",
     "output_type": "stream",
     "text": [
      "Val data created\n"
     ]
    },
    {
     "name": "stderr",
     "output_type": "stream",
     "text": [
      "100%|██████████| 146000/146000 [00:02<00:00, 56351.29it/s]"
     ]
    },
    {
     "name": "stdout",
     "output_type": "stream",
     "text": [
      "Test data created\n"
     ]
    },
    {
     "name": "stderr",
     "output_type": "stream",
     "text": [
      "\n"
     ]
    }
   ],
   "source": [
    "data_path = \"data/fuzzified_data_W24_S1_STRIDE12old.pt\"\n",
    "\n",
    "class FakeLogger:\n",
    "    def info(self, msg):\n",
    "        print(msg)\n",
    "\n",
    "data = get_data(data_path, logger=FakeLogger(), edges_directed=False)"
   ]
  },
  {
   "cell_type": "code",
   "execution_count": 3,
   "metadata": {},
   "outputs": [],
   "source": [
    "train_data, val_data, (test_data, test_labels), (num_nodes, num_edges) = data"
   ]
  },
  {
   "cell_type": "code",
   "execution_count": 4,
   "metadata": {},
   "outputs": [],
   "source": [
    "node_dim = train_data[0].x.shape[1]\n",
    "edge_dim = None"
   ]
  },
  {
   "cell_type": "code",
   "execution_count": 5,
   "metadata": {},
   "outputs": [],
   "source": [
    "model_params = {\n",
    "  \"name\": \"GNNLeakDetector\",\n",
    "  \"use_edges\": False,\n",
    "  \"num_layers\": 4,\n",
    "  \"hidden_size\": 64,\n",
    "  \"gnn_layer\": \"GENConv\",\n",
    "}\n",
    "\n",
    "model = get_model(**model_params, node_in=node_dim, edge_in=edge_dim)"
   ]
  },
  {
   "cell_type": "code",
   "execution_count": 6,
   "metadata": {},
   "outputs": [
    {
     "data": {
      "text/plain": [
       "GNNModel(\n",
       "  (node_encoder): Linear(in_features=3, out_features=64, bias=True)\n",
       "  (convs): ModuleList(\n",
       "    (0-3): 4 x GENConv(64, 64, aggr=softmax)\n",
       "  )\n",
       "  (linear): Linear(in_features=64, out_features=1, bias=True)\n",
       ")"
      ]
     },
     "execution_count": 6,
     "metadata": {},
     "output_type": "execute_result"
    }
   ],
   "source": [
    "model"
   ]
  },
  {
   "cell_type": "code",
   "execution_count": 7,
   "metadata": {},
   "outputs": [
    {
     "name": "stderr",
     "output_type": "stream",
     "text": [
      "/tmp/ipykernel_751477/3188996283.py:2: FutureWarning: You are using `torch.load` with `weights_only=False` (the current default value), which uses the default pickle module implicitly. It is possible to construct malicious pickle data which will execute arbitrary code during unpickling (See https://github.com/pytorch/pytorch/blob/main/SECURITY.md#untrusted-models for more details). In a future release, the default value for `weights_only` will be flipped to `True`. This limits the functions that could be executed during unpickling. Arbitrary objects will no longer be allowed to be loaded via this mode unless they are explicitly allowlisted by the user via `torch.serialization.add_safe_globals`. We recommend you start setting `weights_only=True` for any use case where you don't have full control of the loaded file. Please open an issue on GitHub for any issues related to this experimental feature.\n",
      "  model.load_state_dict(torch.load(checkpoint))\n"
     ]
    },
    {
     "data": {
      "text/plain": [
       "<All keys matched successfully>"
      ]
     },
     "execution_count": 7,
     "metadata": {},
     "output_type": "execute_result"
    }
   ],
   "source": [
    "checkpoint = \"checkpoints/fuzzy_node_5kl1q0uh.pt\"\n",
    "model.load_state_dict(torch.load(checkpoint))"
   ]
  },
  {
   "cell_type": "code",
   "execution_count": 8,
   "metadata": {},
   "outputs": [],
   "source": [
    "class ExplainWrapper(torch.nn.Module):\n",
    "    def __init__(self, model):\n",
    "        super().__init__()\n",
    "        self.model = model\n",
    "    def forward(self, x, edge_index):\n",
    "        return self.model(Data(x=x, edge_index=edge_index))"
   ]
  },
  {
   "cell_type": "code",
   "execution_count": 9,
   "metadata": {},
   "outputs": [],
   "source": [
    "model = ExplainWrapper(model)"
   ]
  },
  {
   "cell_type": "code",
   "execution_count": 10,
   "metadata": {},
   "outputs": [],
   "source": [
    "leak_data = [\n",
    "    test_data[i] for i in range(len(test_data)) if test_data[i].y.sum()\n",
    "]\n",
    "batch_size = 1\n",
    "test_batch = next(\n",
    "        iter(DataLoader(leak_data, batch_size=batch_size, shuffle=False))\n",
    "    )"
   ]
  },
  {
   "cell_type": "code",
   "execution_count": 11,
   "metadata": {},
   "outputs": [],
   "source": [
    "model_config = explain.ModelConfig(\n",
    "    mode=\"binary_classification\",\n",
    "    task_level=\"node\",\n",
    "    return_type=\"raw\",\n",
    ")\n",
    "\n",
    "explainer = explain.Explainer(\n",
    "    model=model,\n",
    "    algorithm=explain.GNNExplainer(),\n",
    "    explanation_type=\"model\",\n",
    "    model_config=model_config,\n",
    "    node_mask_type=\"attributes\",\n",
    "    edge_mask_type=\"object\",\n",
    ")"
   ]
  },
  {
   "cell_type": "code",
   "execution_count": 12,
   "metadata": {},
   "outputs": [
    {
     "name": "stdout",
     "output_type": "stream",
     "text": [
      "Leak in node tensor[1] i64 [10]\n"
     ]
    }
   ],
   "source": [
    "leak_nodes = list(torch.where(test_batch.y))\n",
    "leak_node = None\n",
    "if len(leak_nodes) == 0:\n",
    "    print(\"No leaks in batch\")\n",
    "elif len(leak_nodes) == 1:\n",
    "    print(f\"Leak in node {leak_nodes[0]}\")\n",
    "    leak_node = leak_nodes[0]\n",
    "else:\n",
    "    print(f\"Leaks in nodes {leak_nodes}\")\n",
    "    "
   ]
  },
  {
   "cell_type": "code",
   "execution_count": 13,
   "metadata": {},
   "outputs": [],
   "source": [
    "explanation = explainer(x=test_batch.x, edge_index=test_batch.edge_index, index=leak_node)"
   ]
  },
  {
   "cell_type": "code",
   "execution_count": 14,
   "metadata": {},
   "outputs": [
    {
     "data": {
      "image/png": "[encoded data removed]",
      "text/plain": [
       "<Figure size 1000x700 with 1 Axes>"
      ]
     },
     "metadata": {},
     "output_type": "display_data"
    }
   ],
   "source": [
    "explanation.visualize_feature_importance(\n",
    ")"
   ]
  },
  {
   "cell_type": "code",
   "execution_count": 15,
   "metadata": {},
   "outputs": [
    {
     "data": {
      "image/png": "[encoded data removed]",
      "text/plain": [
       "<Figure size 640x480 with 1 Axes>"
      ]
     },
     "metadata": {},
     "output_type": "display_data"
    }
   ],
   "source": [
    "explanation.visualize_graph()"
   ]
  },
  {
   "cell_type": "code",
   "execution_count": 16,
   "metadata": {},
   "outputs": [
    {
     "data": {
      "text/plain": [
       "True"
      ]
     },
     "execution_count": 16,
     "metadata": {},
     "output_type": "execute_result"
    }
   ],
   "source": [
    "explanation.validate()"
   ]
  },
  {
   "cell_type": "code",
   "execution_count": 68,
   "metadata": {},
   "outputs": [
    {
     "name": "stdout",
     "output_type": "stream",
     "text": [
      "0.0\n"
     ]
    }
   ],
   "source": [
    "metric = unfaithfulness(explainer, explanation)\n",
    "print(metric)"
   ]
  },
  {
   "cell_type": "code",
   "execution_count": 66,
   "metadata": {},
   "outputs": [],
   "source": [
    "nodes = []\n",
    "edges = []\n",
    "\n",
    "for i in range(explanation.node_mask.shape[0]):\n",
    "    node = {\n",
    "        \"id\": str(i),\n",
    "        'properties': {\"label\": str(i),}\n",
    "    }\n",
    "    nodes.append(node)\n",
    "    \n",
    "for j in range(explanation.edge_mask.shape[0]):\n",
    "    edge = {\n",
    "        \"id\": str(j),\n",
    "        \"start\": str(explanation.edge_index[0, j].item()),\n",
    "        \"end\": str(explanation.edge_index[1, j].item()),\n",
    "        'properties': {'label': str(round(explanation.edge_mask[j].item(), 3))}\n",
    "    }\n",
    "    edges.append(edge)\n",
    "    \n",
    "def node_custom_size(index, node):\n",
    "    size = 30\n",
    "    size = size * (1+explanation.node_mask.mean(dim=1)[index].item())*1.5\n",
    "    return size, size\n",
    "\n",
    "def edge_custom_size(index, edge):\n",
    "    size = 1\n",
    "    size = size * (1+explanation.edge_mask[index].item())*1.5\n",
    "    return size\n",
    "\n",
    "cmap = plt.colormaps.get_cmap('viridis').colors\n",
    "def edge_custom_color(index, edge):\n",
    "    idx = int(explanation.edge_mask[index].item() * 255)\n",
    "    int_color = [int(c*256) for c in cmap[idx]]\n",
    "    return '#%02x%02x%02x' % (int_color[0], int_color[1], int_color[2])"
   ]
  },
  {
   "cell_type": "code",
   "execution_count": 67,
   "metadata": {},
   "outputs": [
    {
     "data": {
      "application/vnd.jupyter.widget-view+json": {
       "model_id": "1a2b930ca19e4946976f96646a4a3ee4",
       "version_major": 2,
       "version_minor": 0
      },
      "text/plain": [
       "GraphWidget(layout=Layout(height='610px', width='100%'))"
      ]
     },
     "metadata": {},
     "output_type": "display_data"
    }
   ],
   "source": [
    "w = GraphWidget()\n",
    "w.nodes = nodes\n",
    "w.edges = edges\n",
    "w.directed = True\n",
    "w.set_node_size_mapping(node_custom_size)\n",
    "w.set_edge_thickness_factor_mapping(edge_custom_size)\n",
    "w.set_edge_color_mapping(edge_custom_color)\n",
    "display(w)"
   ]
  },
  {
   "cell_type": "code",
   "execution_count": null,
   "metadata": {},
   "outputs": [],
   "source": []
  }
 ],
 "metadata": {
  "kernelspec": {
   "display_name": "gnnleak",
   "language": "python",
   "name": "python3"
  },
  "language_info": {
   "codemirror_mode": {
    "name": "ipython",
    "version": 3
   },
   "file_extension": ".py",
   "mimetype": "text/x-python",
   "name": "python",
   "nbconvert_exporter": "python",
   "pygments_lexer": "ipython3",
   "version": "3.12.3"
  }
 },
 "nbformat": 4,
 "nbformat_minor": 2
}
